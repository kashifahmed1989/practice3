{
 "cells": [
  {
   "cell_type": "code",
   "execution_count": null,
   "id": "ecb59c7e",
   "metadata": {},
   "outputs": [],
   "source": [
    "magicians = ['alice', 'david', 'carolina']\n",
    "for magician in magicians:\n",
    "u print(magician.title() + \", that was a great trick!\")"
   ]
  },
  {
   "cell_type": "code",
   "execution_count": null,
   "id": "a59a0cd4",
   "metadata": {},
   "outputs": [],
   "source": [
    "magicians = ['alice', 'david', 'carolina']\n",
    "for magician in magicians:\n",
    " print(magician.title() + \", that was a great trick!\")\n",
    "u print(\"I can't wait to see your next trick, \" + magician.title() + \".\\n\")"
   ]
  },
  {
   "cell_type": "code",
   "execution_count": null,
   "id": "663ca3d4",
   "metadata": {},
   "outputs": [],
   "source": [
    "magicians = ['alice', 'david', 'carolina']\n",
    "for magician in magicians:\n",
    " print(magician.title() + \", that was a great trick!\")\n",
    " print(\"I can't wait to see your next trick, \" + magician.title() + \".\\n\")\n",
    "\n",
    "u print(\"Thank you, everyone. That was a great magic show!\")"
   ]
  },
  {
   "cell_type": "code",
   "execution_count": null,
   "id": "9c0f6080",
   "metadata": {},
   "outputs": [],
   "source": [
    "for value in range(1,6):\n",
    " print(value)"
   ]
  },
  {
   "cell_type": "code",
   "execution_count": null,
   "id": "1f123da2",
   "metadata": {},
   "outputs": [],
   "source": [
    "squares = []\n",
    "for value in range(1,11):\n",
    "u squares.append(value**2)\n",
    "print(squares)"
   ]
  },
  {
   "cell_type": "code",
   "execution_count": null,
   "id": "fd66d0ed",
   "metadata": {},
   "outputs": [],
   "source": [
    "players = ['charles', 'martina', 'michael', 'florence', 'eli']\n",
    "print(players[1:4])"
   ]
  },
  {
   "cell_type": "code",
   "execution_count": null,
   "id": "07d0fe21",
   "metadata": {},
   "outputs": [],
   "source": [
    "players = ['charles', 'martina', 'michael', 'florence', 'eli']\n",
    "print(players[:4])"
   ]
  },
  {
   "cell_type": "code",
   "execution_count": null,
   "id": "4b333fdd",
   "metadata": {},
   "outputs": [],
   "source": [
    "players = ['charles', 'martina', 'michael', 'florence', 'eli']\n",
    "print(players[2:])"
   ]
  },
  {
   "cell_type": "code",
   "execution_count": null,
   "id": "eacb2a3e",
   "metadata": {},
   "outputs": [],
   "source": [
    "players = ['charles', 'martina', 'michael', 'florence', 'eli']\n",
    "print(players[-3:])"
   ]
  },
  {
   "cell_type": "code",
   "execution_count": null,
   "id": "b27c80e9",
   "metadata": {},
   "outputs": [],
   "source": [
    "my_foods = ['pizza', 'falafel', 'carrot cake']\n",
    "u friend_foods = my_foods[:]\n",
    "v my_foods.append('cannoli')\n",
    "w friend_foods.append('ice cream')\n",
    "print(\"My favorite foods are:\")\n",
    "print(my_foods)\n",
    "print(\"\\nMy friend's favorite foods are:\")\n",
    "print(friend_foods)"
   ]
  },
  {
   "cell_type": "code",
   "execution_count": null,
   "id": "a2ecee41",
   "metadata": {},
   "outputs": [],
   "source": [
    "my_foods = ['pizza', 'falafel', 'carrot cake']\n",
    "# This doesn't work:\n",
    "u friend_foods = my_foods\n",
    "my_foods.append('cannoli')\n",
    "friend_foods.append('ice cream')\n",
    "print(\"My favorite foods are:\")\n",
    "print(my_foods)\n",
    "print(\"\\nMy friend's favorite foods are:\")\n",
    "print(friend_foods)"
   ]
  },
  {
   "cell_type": "code",
   "execution_count": null,
   "id": "2e2a3361",
   "metadata": {},
   "outputs": [],
   "source": [
    "dimensions = (200, 50)\n",
    "u dimensions[0] = 250"
   ]
  },
  {
   "cell_type": "code",
   "execution_count": null,
   "id": "1248ae1d",
   "metadata": {},
   "outputs": [],
   "source": [
    "dimensions = (200, 50)\n",
    "for dimension in dimensions:\n",
    " print(dimension)"
   ]
  },
  {
   "cell_type": "code",
   "execution_count": null,
   "id": "ae2b115e",
   "metadata": {},
   "outputs": [],
   "source": [
    "dimensions = (200, 50)\n",
    "print(\"Original dimensions:\")\n",
    "for dimension in dimensions:\n",
    " print(dimension)\n",
    "\n",
    "v dimensions = (400, 100)\n",
    "w print(\"\\nModified dimensions:\")\n",
    "for dimension in dimensions:\n",
    " print(dimension)"
   ]
  },
  {
   "cell_type": "code",
   "execution_count": null,
   "id": "cbf2ba21",
   "metadata": {},
   "outputs": [],
   "source": []
  }
 ],
 "metadata": {
  "kernelspec": {
   "display_name": "Python 3 (ipykernel)",
   "language": "python",
   "name": "python3"
  },
  "language_info": {
   "codemirror_mode": {
    "name": "ipython",
    "version": 3
   },
   "file_extension": ".py",
   "mimetype": "text/x-python",
   "name": "python",
   "nbconvert_exporter": "python",
   "pygments_lexer": "ipython3",
   "version": "3.9.12"
  }
 },
 "nbformat": 4,
 "nbformat_minor": 5
}
