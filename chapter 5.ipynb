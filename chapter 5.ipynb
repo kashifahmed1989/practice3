{
 "cells": [
  {
   "cell_type": "code",
   "execution_count": null,
   "id": "8571f048",
   "metadata": {},
   "outputs": [],
   "source": [
    "age = 19\n",
    "if age >= 18:\n",
    " print(\"You are old enough to vote!\")\n",
    " print(\"Have you registered to vote yet?\")"
   ]
  },
  {
   "cell_type": "code",
   "execution_count": null,
   "id": "68f62ada",
   "metadata": {},
   "outputs": [],
   "source": [
    "age = 17\n",
    "u if age >= 18:\n",
    " print(\"You are old enough to vote!\")\n",
    " print(\"Have you registered to vote yet?\")\n",
    "v else:\n",
    " print(\"Sorry, you are too young to vote.\")\n",
    " print(\"Please register to vote as soon as you turn 18!\")"
   ]
  },
  {
   "cell_type": "code",
   "execution_count": null,
   "id": "359717a0",
   "metadata": {},
   "outputs": [],
   "source": [
    "age = 12\n",
    "if age < 4:\n",
    "u price = 0\n",
    "elif age < 18:\n",
    "v price = 5\n",
    "else:\n",
    "w price = 10\n",
    "x print(\"Your admission cost is $\" + str(price) + \".\")\n"
   ]
  },
  {
   "cell_type": "code",
   "execution_count": null,
   "id": "fbb693cb",
   "metadata": {},
   "outputs": [],
   "source": [
    "age = 12\n",
    "if age < 4:\n",
    " price = 0\n",
    "elif age < 18:\n",
    " price = 5\n",
    "u elif age < 65:\n",
    " price = 10\n",
    "v else:\n",
    " price = 5\n",
    "print(\"Your admission cost is $\" + str(price) + \".\")"
   ]
  },
  {
   "cell_type": "code",
   "execution_count": null,
   "id": "58d453f8",
   "metadata": {},
   "outputs": [],
   "source": [
    "age = 12\n",
    "if age < 4:\n",
    " price = 0\n",
    "elif age < 18:\n",
    " price = 5\n",
    "elif age < 65:\n",
    " price = 10\n",
    "u elif age >= 65:\n",
    " price = 5\n",
    "print(\"Your admission cost is $\" + str(price) + \".\")\n"
   ]
  },
  {
   "cell_type": "code",
   "execution_count": null,
   "id": "a8e0c872",
   "metadata": {},
   "outputs": [],
   "source": [
    "requested_toppings = ['mushrooms', 'extra cheese']\n",
    "if 'mushrooms' in requested_toppings:\n",
    " print(\"Adding mushrooms.\")\n",
    "elif 'pepperoni' in requested_toppings:\n",
    " print(\"Adding pepperoni.\")\n",
    "elif 'extra cheese' in requested_toppings:\n",
    " print(\"Adding extra cheese.\")\n",
    "\n",
    "print(\"\\nFinished making your pizza!\")"
   ]
  },
  {
   "cell_type": "code",
   "execution_count": null,
   "id": "c2a0e1dc",
   "metadata": {},
   "outputs": [],
   "source": [
    "requested_toppings = ['mushrooms', 'green peppers', 'extra cheese']\n",
    "for requested_topping in requested_toppings:\n",
    "u if requested_topping == 'green peppers':\n",
    " print(\"Sorry, we are out of green peppers right now.\")\n",
    "v else:\n",
    " print(\"Adding \" + requested_topping + \".\")\n",
    "print(\"\\nFinished making your pizza!\")"
   ]
  },
  {
   "cell_type": "code",
   "execution_count": null,
   "id": "a1213e0e",
   "metadata": {},
   "outputs": [],
   "source": [
    " requested_toppings = []\n",
    "v if requested_toppings:\n",
    " for requested_topping in requested_toppings:\n",
    " print(\"Adding \" + requested_topping + \".\")\n",
    " print(\"\\nFinished making your pizza!\")\n",
    "w else:\n",
    " print(\"Are you sure you want a plain pizza?\")"
   ]
  },
  {
   "cell_type": "code",
   "execution_count": null,
   "id": "d7618ece",
   "metadata": {},
   "outputs": [],
   "source": []
  }
 ],
 "metadata": {
  "kernelspec": {
   "display_name": "Python 3 (ipykernel)",
   "language": "python",
   "name": "python3"
  },
  "language_info": {
   "codemirror_mode": {
    "name": "ipython",
    "version": 3
   },
   "file_extension": ".py",
   "mimetype": "text/x-python",
   "name": "python",
   "nbconvert_exporter": "python",
   "pygments_lexer": "ipython3",
   "version": "3.9.12"
  }
 },
 "nbformat": 4,
 "nbformat_minor": 5
}
