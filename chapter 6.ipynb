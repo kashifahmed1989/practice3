{
 "cells": [
  {
   "cell_type": "code",
   "execution_count": null,
   "id": "ee4d0d2a",
   "metadata": {},
   "outputs": [],
   "source": [
    "alien_0 = {'color': 'green'}\n",
    "print(alien_0['color'])"
   ]
  },
  {
   "cell_type": "code",
   "execution_count": null,
   "id": "cd3ce979",
   "metadata": {},
   "outputs": [],
   "source": [
    "alien_0 = {'color': 'green', 'points': 5}\n",
    "u new_points = alien_0['points']\n",
    "v print(\"You just earned \" + str(new_points) + \" points!\")"
   ]
  },
  {
   "cell_type": "code",
   "execution_count": null,
   "id": "f9ba0be1",
   "metadata": {},
   "outputs": [],
   "source": [
    "alien_0 = {'color': 'green', 'points': 5}\n",
    "print(alien_0)\n",
    "u alien_0['x_position'] = 0\n",
    "v alien_0['y_position'] = 25\n",
    "print(alien_0)"
   ]
  },
  {
   "cell_type": "code",
   "execution_count": null,
   "id": "827f0621",
   "metadata": {},
   "outputs": [],
   "source": [
    "favorite_languages = {\n",
    "'jen': 'python',\n",
    " 'sarah': 'c',\n",
    " 'edward': 'ruby',\n",
    " 'phil': 'python',\n",
    " }\n",
    "u print(\"Sarah's favorite language is \" +\n",
    "v favorite_languages['sarah'].title() +\n",
    "w \".\")"
   ]
  },
  {
   "cell_type": "code",
   "execution_count": null,
   "id": "5121c269",
   "metadata": {},
   "outputs": [],
   "source": [
    "user_0 = {\n",
    " 'username': 'efermi',\n",
    " 'first': 'enrico',\n",
    " 'last': 'fermi',\n",
    " }\n",
    "u for key, value in user_0.items():\n",
    "v print(\"\\nKey: \" + key)\n",
    "w print(\"Value: \" + value)"
   ]
  },
  {
   "cell_type": "code",
   "execution_count": null,
   "id": "2f198dd7",
   "metadata": {},
   "outputs": [],
   "source": [
    "favorite_languages = {\n",
    "languages.py 'jen': 'python',\n",
    " 'sarah': 'c',\n",
    " 'edward': 'ruby',\n",
    " 'phil': 'python',\n",
    " }\n",
    "u for name, language in favorite_languages.items():\n",
    "v print(name.title() + \"'s favorite language is \" +\n",
    " language.title() + \".\")"
   ]
  },
  {
   "cell_type": "code",
   "execution_count": null,
   "id": "37d8e16b",
   "metadata": {},
   "outputs": [],
   "source": [
    "favorite_languages = {\n",
    " 'jen': 'python',\n",
    " 'sarah': 'c',\n",
    " 'edward': 'ruby',\n",
    " 'phil': 'python',\n",
    " }\n",
    "Dictionaries 105\n",
    "u for name in favorite_languages.keys():\n",
    " print(name.title())"
   ]
  },
  {
   "cell_type": "code",
   "execution_count": null,
   "id": "956dee54",
   "metadata": {},
   "outputs": [],
   "source": [
    "favorite_languages = {\n",
    " 'jen': 'python',\n",
    " 'sarah': 'c',\n",
    " 'edward': 'ruby',\n",
    " 'phil': 'python',\n",
    " }\n",
    "u friends = ['phil', 'sarah']\n",
    "for name in favorite_languages.keys():\n",
    " print(name.title())\n",
    "\n",
    "v if name in friends:\n",
    " print(\" Hi \" + name.title() +\n",
    " \", I see your favorite language is \" +\n",
    "w favorite_languages[name].title() + \"!\")"
   ]
  },
  {
   "cell_type": "code",
   "execution_count": null,
   "id": "7ea2806b",
   "metadata": {},
   "outputs": [],
   "source": [
    "favorite_languages = {\n",
    " 'jen': 'python',\n",
    " 'sarah': 'c',\n",
    " 'edward': 'ruby',\n",
    " 'phil': 'python',\n",
    " }\n",
    "u if 'erin' not in favorite_languages.keys():\n",
    " print(\"Erin, please take our poll!\")"
   ]
  },
  {
   "cell_type": "code",
   "execution_count": null,
   "id": "4c351b93",
   "metadata": {},
   "outputs": [],
   "source": [
    "favorite_languages = {\n",
    " 'jen': 'python',\n",
    " 'sarah': 'c',\n",
    " 'edward': 'ruby',\n",
    " 'phil': 'python',\n",
    " }\n",
    "for name in sorted(favorite_languages.keys()):\n",
    " print(name.title() + \", thank you for taking the poll.\")"
   ]
  },
  {
   "cell_type": "code",
   "execution_count": null,
   "id": "fc90ae35",
   "metadata": {},
   "outputs": [],
   "source": [
    "favorite_languages = {\n",
    " 'jen': 'python',\n",
    " 'sarah': 'c',\n",
    " 'edward': 'ruby',\n",
    " 'phil': 'python',\n",
    " }\n",
    "print(\"The following languages have been mentioned:\")\n",
    "for language in favorite_languages.values():\n",
    " print(language.title())"
   ]
  },
  {
   "cell_type": "code",
   "execution_count": null,
   "id": "80f9cc5e",
   "metadata": {},
   "outputs": [],
   "source": [
    "favorite_languages = {\n",
    " 'jen': 'python',\n",
    " 'sarah': 'c',\n",
    " 'edward': 'ruby',\n",
    "108 Chapter 6\n",
    " 'phil': 'python',\n",
    " }\n",
    "print(\"The following languages have been mentioned:\")\n",
    "u for language in set(favorite_languages.values()):\n",
    " print(language.title())"
   ]
  },
  {
   "cell_type": "code",
   "execution_count": null,
   "id": "e00225f6",
   "metadata": {},
   "outputs": [],
   "source": [
    "# Make an empty list for storing aliens.\n",
    "aliens = []\n",
    "# Make 30 green aliens.\n",
    "for alien_number in range (0,30):\n",
    " new_alien = {'color': 'green', 'points': 5, 'speed': 'slow'}\n",
    " aliens.append(new_alien)\n",
    "\n",
    "for alien in aliens[0:3]:\n",
    " if alien['color'] == 'green':\n",
    " alien['color'] = 'yellow'\n",
    " alien['speed'] = 'medium'\n",
    " alien['points'] = 10\n",
    "\n",
    "# Show the first 5 aliens:\n",
    "for alien in aliens[0:5]:\n",
    " print(alien)\n",
    "print(\"...\")"
   ]
  },
  {
   "cell_type": "code",
   "execution_count": null,
   "id": "9e5e1221",
   "metadata": {},
   "outputs": [],
   "source": [
    "for alien in aliens[0:3]:\n",
    " if alien['color'] == 'green':\n",
    " alien['color'] = 'yellow'\n",
    " alien['speed'] = 'medium'\n",
    " alien['points'] = 10\n",
    " elif alien['color'] == 'yellow':\n",
    " alien['color'] = 'red'\n",
    " alien['speed'] = 'fast'\n",
    " alien['points'] = 15"
   ]
  }
 ],
 "metadata": {
  "kernelspec": {
   "display_name": "Python 3 (ipykernel)",
   "language": "python",
   "name": "python3"
  },
  "language_info": {
   "codemirror_mode": {
    "name": "ipython",
    "version": 3
   },
   "file_extension": ".py",
   "mimetype": "text/x-python",
   "name": "python",
   "nbconvert_exporter": "python",
   "pygments_lexer": "ipython3",
   "version": "3.9.12"
  }
 },
 "nbformat": 4,
 "nbformat_minor": 5
}
