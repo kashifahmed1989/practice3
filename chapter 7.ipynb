{
 "cells": [
  {
   "cell_type": "code",
   "execution_count": null,
   "id": "899e9112",
   "metadata": {},
   "outputs": [],
   "source": [
    "prompt = \"If you tell us who you are, we can personalize the messages you see.\"\n",
    "prompt += \"\\nWhat is your first name? \"\n",
    "name = input(prompt)\n",
    "print(\"\\nHello, \" + name + \"!\")\n"
   ]
  },
  {
   "cell_type": "code",
   "execution_count": null,
   "id": "c3c22db8",
   "metadata": {},
   "outputs": [],
   "source": [
    "height = input(\"How tall are you, in inches? \")\n",
    "height = int(height)\n",
    "if height >= 36:\n",
    " print(\"\\nYou're tall enough to ride!\")\n",
    "else:\n",
    " print(\"\\nYou'll be able to ride when you're a little older.\")"
   ]
  },
  {
   "cell_type": "code",
   "execution_count": null,
   "id": "d6f191a1",
   "metadata": {},
   "outputs": [],
   "source": [
    "number = input(\"Enter a number, and I'll tell you if it's even or odd: \")\n",
    "number = int(number)\n",
    "if number % 2 == 0:\n",
    " print(\"\\nThe number \" + str(number) + \" is even.\")\n",
    "else:\n",
    " print(\"\\nThe number \" + str(number) + \" is odd.\")"
   ]
  },
  {
   "cell_type": "code",
   "execution_count": null,
   "id": "ce1b172b",
   "metadata": {},
   "outputs": [],
   "source": [
    "prompt = \"\\nTell me something, and I will repeat it back to you:\"\n",
    "prompt += \"\\nEnter 'quit' to end the program. \"\n",
    "User Input and while Loops 123\n",
    "v message = \"\"\n",
    "w while message != 'quit':\n",
    " message = input(prompt)\n",
    " print(message)"
   ]
  },
  {
   "cell_type": "code",
   "execution_count": null,
   "id": "d92c6a9a",
   "metadata": {},
   "outputs": [],
   "source": [
    "prompt = \"\\nTell me something, and I will repeat it back to you:\"\n",
    "prompt += \"\\nEnter 'quit' to end the program. \"\n",
    "message = \"\"\n",
    "while message != 'quit':\n",
    " message = input(prompt)\n",
    "\n",
    " if message != 'quit':\n",
    " print(message)"
   ]
  },
  {
   "cell_type": "code",
   "execution_count": null,
   "id": "2d523421",
   "metadata": {},
   "outputs": [],
   "source": [
    "prompt = \"\\nTell me something, and I will repeat it back to you:\"\n",
    "prompt += \"\\nEnter 'quit' to end the program. \"\n",
    "\n",
    "u active = True\n",
    "v while active:\n",
    " message = input(prompt)\n",
    "\n",
    "w if message == 'quit':\n",
    " active = False\n",
    "x else:\n",
    " print(message)"
   ]
  },
  {
   "cell_type": "code",
   "execution_count": null,
   "id": "db084bb6",
   "metadata": {},
   "outputs": [],
   "source": [
    "prompt = \"\\nPlease enter the name of a city you have visited:\"\n",
    "prompt += \"\\n(Enter 'quit' when you are finished.) \"\n",
    "u while True:\n",
    " city = input(prompt)\n",
    "\n",
    " if city == 'quit':\n",
    " break\n",
    " else:\n",
    " print(\"I'd love to go to \" + city.title() + \"!\")\n"
   ]
  },
  {
   "cell_type": "code",
   "execution_count": null,
   "id": "7944e145",
   "metadata": {},
   "outputs": [],
   "source": [
    "current_number = 0\n",
    "while current_number < 10:\n",
    "u current_number += 1\n",
    " if current_number % 2 == 0:\n",
    " continue\n",
    "\n",
    " print(current_number)"
   ]
  },
  {
   "cell_type": "code",
   "execution_count": null,
   "id": "07b5da51",
   "metadata": {},
   "outputs": [],
   "source": [
    "x = 1\n",
    "while x <= 5:\n",
    " print(x)\n",
    " x += 1"
   ]
  },
  {
   "cell_type": "code",
   "execution_count": null,
   "id": "ddfcf51b",
   "metadata": {},
   "outputs": [],
   "source": [
    "# This loop runs forever!\n",
    "x = 1\n",
    "while x <= 5:\n",
    " print(x"
   ]
  },
  {
   "cell_type": "code",
   "execution_count": null,
   "id": "f7058991",
   "metadata": {},
   "outputs": [],
   "source": [
    "pets = ['dog', 'cat', 'dog', 'goldfish', 'cat', 'rabbit', 'cat']\n",
    "print(pets)\n",
    "while 'cat' in pets:\n",
    " pets.remove('cat')\n",
    "\n",
    "print(pets)"
   ]
  },
  {
   "cell_type": "code",
   "execution_count": null,
   "id": "217d82e7",
   "metadata": {},
   "outputs": [],
   "source": []
  }
 ],
 "metadata": {
  "kernelspec": {
   "display_name": "Python 3 (ipykernel)",
   "language": "python",
   "name": "python3"
  },
  "language_info": {
   "codemirror_mode": {
    "name": "ipython",
    "version": 3
   },
   "file_extension": ".py",
   "mimetype": "text/x-python",
   "name": "python",
   "nbconvert_exporter": "python",
   "pygments_lexer": "ipython3",
   "version": "3.9.12"
  }
 },
 "nbformat": 4,
 "nbformat_minor": 5
}
